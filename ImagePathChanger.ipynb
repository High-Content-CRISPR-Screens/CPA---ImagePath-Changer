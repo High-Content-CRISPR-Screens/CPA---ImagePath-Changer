{
 "cells": [
  {
   "cell_type": "code",
   "execution_count": null,
   "id": "7fabff3c",
   "metadata": {},
   "outputs": [],
   "source": [
    "import pandas as pd\n",
    "import sqlite3"
   ]
  },
  {
   "cell_type": "code",
   "execution_count": null,
   "id": "4a81ccff",
   "metadata": {},
   "outputs": [],
   "source": [
    "while True:\n",
    "    db_path = input(\"Enter the path to the database file:\")\n",
    "    db_path = db_path.replace('\"','')\n",
    "    if db_path.endswith('.db'):\n",
    "        break\n",
    "\n",
    "conn = sqlite3.connect(db_path)\n",
    "cur = conn.cursor()"
   ]
  },
  {
   "cell_type": "code",
   "execution_count": null,
   "id": "3f2eb6dd",
   "metadata": {},
   "outputs": [],
   "source": [
    "df = pd.read_sql_query(f\"SELECT name FROM sqlite_master WHERE type='table';\", conn)\n",
    "experiment_name= df[df['name'].str.endswith('_Per_Object')]['name'].tolist()[0].replace('_Per_Object', '')\n"
   ]
  },
  {
   "cell_type": "code",
   "execution_count": null,
   "id": "a2811c2d",
   "metadata": {},
   "outputs": [],
   "source": [
    "columns_to_change = [ col for col in pd.read_sql_query(f\"SELECT * FROM {experiment_name}_Per_Image LIMIT 0\", conn).columns.tolist() if col.startswith(\"Image_PathName\")]\n",
    "image_paths = pd.read_sql_query(f\"SELECT {', '.join(columns_to_change)} FROM {experiment_name}_Per_Image\", conn)\n",
    "unique_paths= pd.unique(image_paths.values.ravel())\n",
    "for path in unique_paths:\n",
    "    new_path = input(f\"Enter the new path for {path}:\")\n",
    "    for col in columns_to_change:\n",
    "        cur.execute(\n",
    "            f\"UPDATE {experiment_name}_Per_Image SET {col} = ? WHERE {col} = ?\",\n",
    "            (new_path, path)\n",
    "        )\n",
    "    conn.commit()\n",
    "print(\"All paths updated successfully.\")"
   ]
  },
  {
   "cell_type": "code",
   "execution_count": null,
   "id": "13aadcb5",
   "metadata": {
    "vscode": {
     "languageId": "markdown"
    }
   },
   "outputs": [],
   "source": []
  }
 ],
 "metadata": {
  "kernelspec": {
   "display_name": "base",
   "language": "python",
   "name": "python3"
  },
  "language_info": {
   "codemirror_mode": {
    "name": "ipython",
    "version": 3
   },
   "file_extension": ".py",
   "mimetype": "text/x-python",
   "name": "python",
   "nbconvert_exporter": "python",
   "pygments_lexer": "ipython3",
   "version": "3.11.7"
  }
 },
 "nbformat": 4,
 "nbformat_minor": 5
}
